{
 "cells": [
  {
   "cell_type": "markdown",
   "id": "eecffcc5-419e-4190-b20c-5bdee03fa20b",
   "metadata": {},
   "source": [
    "# Imports"
   ]
  },
  {
   "cell_type": "code",
   "execution_count": 1,
   "id": "e440aca4-e546-4eba-b54c-87ba0d2c711d",
   "metadata": {},
   "outputs": [],
   "source": [
    "import numpy as np\n",
    "import pandas as pd\n",
    "from sklearn.preprocessing import OneHotEncoder, LabelEncoder"
   ]
  },
  {
   "cell_type": "markdown",
   "id": "890bb4b2-4d17-4fd1-a2b9-f2ba5a9dbe54",
   "metadata": {},
   "source": [
    "# Dataset"
   ]
  },
  {
   "cell_type": "code",
   "execution_count": 2,
   "id": "95a3a6f2-d50b-4749-b73e-0375a5995ff5",
   "metadata": {},
   "outputs": [],
   "source": [
    "data = pd.read_csv(\"weekend_decision.csv\")"
   ]
  },
  {
   "cell_type": "code",
   "execution_count": 3,
   "id": "cd9d849d-6bc9-4011-b84d-2651e0f9043a",
   "metadata": {},
   "outputs": [
    {
     "data": {
      "text/html": [
       "<div>\n",
       "<style scoped>\n",
       "    .dataframe tbody tr th:only-of-type {\n",
       "        vertical-align: middle;\n",
       "    }\n",
       "\n",
       "    .dataframe tbody tr th {\n",
       "        vertical-align: top;\n",
       "    }\n",
       "\n",
       "    .dataframe thead th {\n",
       "        text-align: right;\n",
       "    }\n",
       "</style>\n",
       "<table border=\"1\" class=\"dataframe\">\n",
       "  <thead>\n",
       "    <tr style=\"text-align: right;\">\n",
       "      <th></th>\n",
       "      <th>Weekend</th>\n",
       "      <th>Weather</th>\n",
       "      <th>Parents</th>\n",
       "      <th>Financial condition</th>\n",
       "      <th>Decision</th>\n",
       "    </tr>\n",
       "  </thead>\n",
       "  <tbody>\n",
       "    <tr>\n",
       "      <th>0</th>\n",
       "      <td>W1</td>\n",
       "      <td>Sunny</td>\n",
       "      <td>Yes</td>\n",
       "      <td>Rich</td>\n",
       "      <td>Cinema</td>\n",
       "    </tr>\n",
       "    <tr>\n",
       "      <th>1</th>\n",
       "      <td>W2</td>\n",
       "      <td>Sunny</td>\n",
       "      <td>No</td>\n",
       "      <td>Rich</td>\n",
       "      <td>Play Tennis</td>\n",
       "    </tr>\n",
       "    <tr>\n",
       "      <th>2</th>\n",
       "      <td>W3</td>\n",
       "      <td>Windy</td>\n",
       "      <td>Yes</td>\n",
       "      <td>Rich</td>\n",
       "      <td>Cinema</td>\n",
       "    </tr>\n",
       "    <tr>\n",
       "      <th>3</th>\n",
       "      <td>W4</td>\n",
       "      <td>Rainy</td>\n",
       "      <td>Yes</td>\n",
       "      <td>Poor</td>\n",
       "      <td>Cinema</td>\n",
       "    </tr>\n",
       "    <tr>\n",
       "      <th>4</th>\n",
       "      <td>W5</td>\n",
       "      <td>Rainy</td>\n",
       "      <td>No</td>\n",
       "      <td>Rich</td>\n",
       "      <td>Stay in</td>\n",
       "    </tr>\n",
       "    <tr>\n",
       "      <th>5</th>\n",
       "      <td>W6</td>\n",
       "      <td>Rainy</td>\n",
       "      <td>Yes</td>\n",
       "      <td>Poor</td>\n",
       "      <td>Cinema</td>\n",
       "    </tr>\n",
       "    <tr>\n",
       "      <th>6</th>\n",
       "      <td>W7</td>\n",
       "      <td>Windy</td>\n",
       "      <td>No</td>\n",
       "      <td>Poor</td>\n",
       "      <td>Cinema</td>\n",
       "    </tr>\n",
       "    <tr>\n",
       "      <th>7</th>\n",
       "      <td>W8</td>\n",
       "      <td>Windy</td>\n",
       "      <td>No</td>\n",
       "      <td>Rich</td>\n",
       "      <td>Shopping</td>\n",
       "    </tr>\n",
       "    <tr>\n",
       "      <th>8</th>\n",
       "      <td>W9</td>\n",
       "      <td>Windy</td>\n",
       "      <td>Yes</td>\n",
       "      <td>Rich</td>\n",
       "      <td>Cinema</td>\n",
       "    </tr>\n",
       "    <tr>\n",
       "      <th>9</th>\n",
       "      <td>W10</td>\n",
       "      <td>Sunny</td>\n",
       "      <td>No</td>\n",
       "      <td>Rich</td>\n",
       "      <td>Play Tennis</td>\n",
       "    </tr>\n",
       "  </tbody>\n",
       "</table>\n",
       "</div>"
      ],
      "text/plain": [
       "  Weekend Weather Parents Financial condition     Decision\n",
       "0      W1   Sunny     Yes                Rich       Cinema\n",
       "1      W2   Sunny      No                Rich  Play Tennis\n",
       "2      W3   Windy     Yes                Rich       Cinema\n",
       "3      W4   Rainy     Yes                Poor       Cinema\n",
       "4      W5   Rainy      No                Rich      Stay in\n",
       "5      W6   Rainy     Yes                Poor       Cinema\n",
       "6      W7   Windy      No                Poor       Cinema\n",
       "7      W8   Windy      No                Rich     Shopping\n",
       "8      W9   Windy     Yes                Rich       Cinema\n",
       "9     W10   Sunny      No                Rich  Play Tennis"
      ]
     },
     "execution_count": 3,
     "metadata": {},
     "output_type": "execute_result"
    }
   ],
   "source": [
    "data"
   ]
  },
  {
   "cell_type": "code",
   "execution_count": 4,
   "id": "3b7d1b34-86e6-4ee3-a7fa-4880bb9fbe43",
   "metadata": {},
   "outputs": [],
   "source": [
    "X = data.iloc[:,1:-1]\n",
    "y = data.iloc[:,-1]"
   ]
  },
  {
   "cell_type": "code",
   "execution_count": 5,
   "id": "d8c1819f-f463-4860-80df-8a58266e06fc",
   "metadata": {},
   "outputs": [
    {
     "data": {
      "text/html": [
       "<div>\n",
       "<style scoped>\n",
       "    .dataframe tbody tr th:only-of-type {\n",
       "        vertical-align: middle;\n",
       "    }\n",
       "\n",
       "    .dataframe tbody tr th {\n",
       "        vertical-align: top;\n",
       "    }\n",
       "\n",
       "    .dataframe thead th {\n",
       "        text-align: right;\n",
       "    }\n",
       "</style>\n",
       "<table border=\"1\" class=\"dataframe\">\n",
       "  <thead>\n",
       "    <tr style=\"text-align: right;\">\n",
       "      <th></th>\n",
       "      <th>Weather</th>\n",
       "      <th>Parents</th>\n",
       "      <th>Financial condition</th>\n",
       "    </tr>\n",
       "  </thead>\n",
       "  <tbody>\n",
       "    <tr>\n",
       "      <th>0</th>\n",
       "      <td>Sunny</td>\n",
       "      <td>Yes</td>\n",
       "      <td>Rich</td>\n",
       "    </tr>\n",
       "    <tr>\n",
       "      <th>1</th>\n",
       "      <td>Sunny</td>\n",
       "      <td>No</td>\n",
       "      <td>Rich</td>\n",
       "    </tr>\n",
       "    <tr>\n",
       "      <th>2</th>\n",
       "      <td>Windy</td>\n",
       "      <td>Yes</td>\n",
       "      <td>Rich</td>\n",
       "    </tr>\n",
       "    <tr>\n",
       "      <th>3</th>\n",
       "      <td>Rainy</td>\n",
       "      <td>Yes</td>\n",
       "      <td>Poor</td>\n",
       "    </tr>\n",
       "    <tr>\n",
       "      <th>4</th>\n",
       "      <td>Rainy</td>\n",
       "      <td>No</td>\n",
       "      <td>Rich</td>\n",
       "    </tr>\n",
       "    <tr>\n",
       "      <th>5</th>\n",
       "      <td>Rainy</td>\n",
       "      <td>Yes</td>\n",
       "      <td>Poor</td>\n",
       "    </tr>\n",
       "    <tr>\n",
       "      <th>6</th>\n",
       "      <td>Windy</td>\n",
       "      <td>No</td>\n",
       "      <td>Poor</td>\n",
       "    </tr>\n",
       "    <tr>\n",
       "      <th>7</th>\n",
       "      <td>Windy</td>\n",
       "      <td>No</td>\n",
       "      <td>Rich</td>\n",
       "    </tr>\n",
       "    <tr>\n",
       "      <th>8</th>\n",
       "      <td>Windy</td>\n",
       "      <td>Yes</td>\n",
       "      <td>Rich</td>\n",
       "    </tr>\n",
       "    <tr>\n",
       "      <th>9</th>\n",
       "      <td>Sunny</td>\n",
       "      <td>No</td>\n",
       "      <td>Rich</td>\n",
       "    </tr>\n",
       "  </tbody>\n",
       "</table>\n",
       "</div>"
      ],
      "text/plain": [
       "  Weather Parents Financial condition\n",
       "0   Sunny     Yes                Rich\n",
       "1   Sunny      No                Rich\n",
       "2   Windy     Yes                Rich\n",
       "3   Rainy     Yes                Poor\n",
       "4   Rainy      No                Rich\n",
       "5   Rainy     Yes                Poor\n",
       "6   Windy      No                Poor\n",
       "7   Windy      No                Rich\n",
       "8   Windy     Yes                Rich\n",
       "9   Sunny      No                Rich"
      ]
     },
     "execution_count": 5,
     "metadata": {},
     "output_type": "execute_result"
    }
   ],
   "source": [
    "X"
   ]
  },
  {
   "cell_type": "code",
   "execution_count": 6,
   "id": "2c5c6bb9-74db-4e1c-9ef4-474347b66ded",
   "metadata": {},
   "outputs": [
    {
     "data": {
      "text/plain": [
       "0         Cinema\n",
       "1    Play Tennis\n",
       "2         Cinema\n",
       "3         Cinema\n",
       "4        Stay in\n",
       "5         Cinema\n",
       "6         Cinema\n",
       "7       Shopping\n",
       "8         Cinema\n",
       "9    Play Tennis\n",
       "Name: Decision, dtype: object"
      ]
     },
     "execution_count": 6,
     "metadata": {},
     "output_type": "execute_result"
    }
   ],
   "source": [
    "y"
   ]
  },
  {
   "cell_type": "code",
   "execution_count": 7,
   "id": "3af2769f-63da-497e-927f-8cae981e7bce",
   "metadata": {},
   "outputs": [],
   "source": [
    "X_encoder = OneHotEncoder()\n",
    "X_encoded = X_encoder.fit_transform(X)\n",
    "\n",
    "y_encoder = LabelEncoder()\n",
    "y_encoded = y_encoder.fit_transform(y)"
   ]
  },
  {
   "cell_type": "code",
   "execution_count": 8,
   "id": "688c706f-6016-470d-9f43-9c700bfb95a8",
   "metadata": {},
   "outputs": [
    {
     "data": {
      "text/plain": [
       "(10, 7)"
      ]
     },
     "execution_count": 8,
     "metadata": {},
     "output_type": "execute_result"
    }
   ],
   "source": [
    "X_encoded.shape"
   ]
  },
  {
   "cell_type": "code",
   "execution_count": 9,
   "id": "58668d1f-5cbb-452a-b17e-3141ddf701d1",
   "metadata": {},
   "outputs": [
    {
     "data": {
      "text/plain": [
       "array([0, 1, 0, 0, 3, 0, 0, 2, 0, 1])"
      ]
     },
     "execution_count": 9,
     "metadata": {},
     "output_type": "execute_result"
    }
   ],
   "source": [
    "y_encoded"
   ]
  },
  {
   "cell_type": "markdown",
   "id": "62e70dd2-636f-4b09-bc59-381eec37c227",
   "metadata": {},
   "source": [
    "# Model"
   ]
  },
  {
   "cell_type": "code",
   "execution_count": 37,
   "id": "65ba457b-f610-4647-8430-bf9c1a4308fb",
   "metadata": {},
   "outputs": [],
   "source": [
    "class NaiveBayes:\n",
    "    def __init__(self, alpha=1e-10):\n",
    "        self._alpha = alpha\n",
    "        self._classes = []\n",
    "        self._priors = {}\n",
    "        self._feature_probs = {}\n",
    "\n",
    "    def fit(self, X:pd.DataFrame, y:pd.Series):\n",
    "        n_samples, n_features = X.shape\n",
    "        self._classes, counts = np.unique(y, return_counts=True)\n",
    "        \n",
    "        for c in range(len(counts)):\n",
    "            X_c = X[y==c]\n",
    "            self._priors[c] = X_c.shape[0]/X.shape[0]\n",
    "            word_counts = np.sum(X_c, axis=0) + self._alpha\n",
    "            self._feature_probs[c] = word_counts/(np.sum(word_counts) + self._alpha*n_features) # or word_counts/X_c.shape[0]\n",
    "            \n",
    "    def predict(self, X:pd.DataFrame) -> np.array:\n",
    "        if X.ndim == 1:\n",
    "            X = X.reshape(1, -1)\n",
    "        predictions = []\n",
    "        for sample in X:\n",
    "            log_probs = {}\n",
    "            for c in self._classes:\n",
    "                log_prob = np.log(self._priors[c])\n",
    "                log_prob += np.sum(sample.multiply(np.log(self._feature_probs[c])))\n",
    "                log_probs[c] = log_prob\n",
    "            predictions.append(max(log_probs, key = log_probs.get))\n",
    "        return np.array(predictions)"
   ]
  },
  {
   "cell_type": "code",
   "execution_count": 38,
   "id": "1f882057-7325-47b3-900e-eb1725599745",
   "metadata": {},
   "outputs": [],
   "source": [
    "model = NaiveBayes()\n",
    "model.fit(X_encoded, y_encoded)"
   ]
  },
  {
   "cell_type": "markdown",
   "id": "70651f59-ee6c-492f-8bc2-ba7faa2f2d90",
   "metadata": {},
   "source": [
    "# Testing"
   ]
  },
  {
   "cell_type": "code",
   "execution_count": 42,
   "id": "761b9b3f-aeba-40ad-b991-c7e7ed3faad9",
   "metadata": {},
   "outputs": [
    {
     "data": {
      "text/html": [
       "<div>\n",
       "<style scoped>\n",
       "    .dataframe tbody tr th:only-of-type {\n",
       "        vertical-align: middle;\n",
       "    }\n",
       "\n",
       "    .dataframe tbody tr th {\n",
       "        vertical-align: top;\n",
       "    }\n",
       "\n",
       "    .dataframe thead th {\n",
       "        text-align: right;\n",
       "    }\n",
       "</style>\n",
       "<table border=\"1\" class=\"dataframe\">\n",
       "  <thead>\n",
       "    <tr style=\"text-align: right;\">\n",
       "      <th></th>\n",
       "      <th>Weather</th>\n",
       "      <th>Parents</th>\n",
       "      <th>Financial condition</th>\n",
       "    </tr>\n",
       "  </thead>\n",
       "  <tbody>\n",
       "    <tr>\n",
       "      <th>0</th>\n",
       "      <td>Windy</td>\n",
       "      <td>No</td>\n",
       "      <td>Rich</td>\n",
       "    </tr>\n",
       "    <tr>\n",
       "      <th>1</th>\n",
       "      <td>Rainy</td>\n",
       "      <td>No</td>\n",
       "      <td>Poor</td>\n",
       "    </tr>\n",
       "  </tbody>\n",
       "</table>\n",
       "</div>"
      ],
      "text/plain": [
       "  Weather Parents Financial condition\n",
       "0   Windy      No                Rich\n",
       "1   Rainy      No                Poor"
      ]
     },
     "execution_count": 42,
     "metadata": {},
     "output_type": "execute_result"
    }
   ],
   "source": [
    "test_samples = pd.DataFrame([[\"Windy\", \"No\", \"Rich\"],[\"Rainy\",\"No\",\"Poor\"]], columns=X.columns)\n",
    "test_samples"
   ]
  },
  {
   "cell_type": "code",
   "execution_count": 43,
   "id": "1b5de03f-caed-44e1-9ec0-fd8c474e40d6",
   "metadata": {},
   "outputs": [],
   "source": [
    "test_encoded = X_encoder.transform(test_samples)"
   ]
  },
  {
   "cell_type": "code",
   "execution_count": 44,
   "id": "ad524f29-e2f3-4477-892c-e18e29823a0c",
   "metadata": {},
   "outputs": [
    {
     "name": "stdout",
     "output_type": "stream",
     "text": [
      "\n",
      "Predictions for Test Samples:\n",
      "Original: ['Windy' 'No' 'Rich'], Encoded: [0. 0. 1. 1. 0. 0. 1.], Predicted: Shopping\n",
      "Original: ['Rainy' 'No' 'Poor'], Encoded: [1. 0. 0. 1. 0. 1. 0.], Predicted: Cinema\n"
     ]
    }
   ],
   "source": [
    "preds = model.predict(test_encoded)\n",
    "pred_labels = y_encoder.inverse_transform(preds)\n",
    "print(\"\\nPredictions for Test Samples:\")\n",
    "for orig, enc, pred in zip(test_samples.values, test_encoded.toarray(), pred_labels):\n",
    "    print(f\"Original: {orig}, Encoded: {enc}, Predicted: {pred}\")"
   ]
  },
  {
   "cell_type": "code",
   "execution_count": null,
   "id": "4ad6cd92-7f1a-4311-ae39-4485d871dc50",
   "metadata": {},
   "outputs": [],
   "source": []
  }
 ],
 "metadata": {
  "kernelspec": {
   "display_name": "Python 3 (ipykernel)",
   "language": "python",
   "name": "python3"
  },
  "language_info": {
   "codemirror_mode": {
    "name": "ipython",
    "version": 3
   },
   "file_extension": ".py",
   "mimetype": "text/x-python",
   "name": "python",
   "nbconvert_exporter": "python",
   "pygments_lexer": "ipython3",
   "version": "3.13.5"
  }
 },
 "nbformat": 4,
 "nbformat_minor": 5
}
